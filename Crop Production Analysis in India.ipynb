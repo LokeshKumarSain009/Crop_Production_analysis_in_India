{
 "cells": [
  {
   "cell_type": "markdown",
   "id": "fe50b9e8-3aea-4d8f-885d-56b8d556b00b",
   "metadata": {},
   "source": [
    "#  Extracting Data from CSV"
   ]
  },
  {
   "cell_type": "code",
   "execution_count": 144,
   "id": "6c67779e-722f-4cc8-a619-fc6ac93c3c41",
   "metadata": {},
   "outputs": [],
   "source": [
    "import pandas as pd\n",
    "import matplotlib.pyplot as plt\n",
    "import seaborn as sns"
   ]
  },
  {
   "cell_type": "code",
   "execution_count": 145,
   "id": "04eed228-18eb-4428-97b4-f4e5e665552f",
   "metadata": {},
   "outputs": [
    {
     "data": {
      "text/html": [
       "<div>\n",
       "<style scoped>\n",
       "    .dataframe tbody tr th:only-of-type {\n",
       "        vertical-align: middle;\n",
       "    }\n",
       "\n",
       "    .dataframe tbody tr th {\n",
       "        vertical-align: top;\n",
       "    }\n",
       "\n",
       "    .dataframe thead th {\n",
       "        text-align: right;\n",
       "    }\n",
       "</style>\n",
       "<table border=\"1\" class=\"dataframe\">\n",
       "  <thead>\n",
       "    <tr style=\"text-align: right;\">\n",
       "      <th></th>\n",
       "      <th>State_Name</th>\n",
       "      <th>District_Name</th>\n",
       "      <th>Crop_Year</th>\n",
       "      <th>Season</th>\n",
       "      <th>Crop</th>\n",
       "      <th>Area</th>\n",
       "      <th>Production</th>\n",
       "    </tr>\n",
       "  </thead>\n",
       "  <tbody>\n",
       "    <tr>\n",
       "      <th>0</th>\n",
       "      <td>Andaman and Nicobar Islands</td>\n",
       "      <td>NICOBARS</td>\n",
       "      <td>2000</td>\n",
       "      <td>Kharif</td>\n",
       "      <td>Arecanut</td>\n",
       "      <td>1254.0</td>\n",
       "      <td>2000.0</td>\n",
       "    </tr>\n",
       "    <tr>\n",
       "      <th>1</th>\n",
       "      <td>Andaman and Nicobar Islands</td>\n",
       "      <td>NICOBARS</td>\n",
       "      <td>2000</td>\n",
       "      <td>Kharif</td>\n",
       "      <td>Other Kharif pulses</td>\n",
       "      <td>2.0</td>\n",
       "      <td>1.0</td>\n",
       "    </tr>\n",
       "    <tr>\n",
       "      <th>2</th>\n",
       "      <td>Andaman and Nicobar Islands</td>\n",
       "      <td>NICOBARS</td>\n",
       "      <td>2000</td>\n",
       "      <td>Kharif</td>\n",
       "      <td>Rice</td>\n",
       "      <td>102.0</td>\n",
       "      <td>321.0</td>\n",
       "    </tr>\n",
       "    <tr>\n",
       "      <th>3</th>\n",
       "      <td>Andaman and Nicobar Islands</td>\n",
       "      <td>NICOBARS</td>\n",
       "      <td>2000</td>\n",
       "      <td>Whole Year</td>\n",
       "      <td>Banana</td>\n",
       "      <td>176.0</td>\n",
       "      <td>641.0</td>\n",
       "    </tr>\n",
       "    <tr>\n",
       "      <th>4</th>\n",
       "      <td>Andaman and Nicobar Islands</td>\n",
       "      <td>NICOBARS</td>\n",
       "      <td>2000</td>\n",
       "      <td>Whole Year</td>\n",
       "      <td>Cashewnut</td>\n",
       "      <td>720.0</td>\n",
       "      <td>165.0</td>\n",
       "    </tr>\n",
       "    <tr>\n",
       "      <th>...</th>\n",
       "      <td>...</td>\n",
       "      <td>...</td>\n",
       "      <td>...</td>\n",
       "      <td>...</td>\n",
       "      <td>...</td>\n",
       "      <td>...</td>\n",
       "      <td>...</td>\n",
       "    </tr>\n",
       "    <tr>\n",
       "      <th>246086</th>\n",
       "      <td>West Bengal</td>\n",
       "      <td>PURULIA</td>\n",
       "      <td>2014</td>\n",
       "      <td>Summer</td>\n",
       "      <td>Rice</td>\n",
       "      <td>306.0</td>\n",
       "      <td>801.0</td>\n",
       "    </tr>\n",
       "    <tr>\n",
       "      <th>246087</th>\n",
       "      <td>West Bengal</td>\n",
       "      <td>PURULIA</td>\n",
       "      <td>2014</td>\n",
       "      <td>Summer</td>\n",
       "      <td>Sesamum</td>\n",
       "      <td>627.0</td>\n",
       "      <td>463.0</td>\n",
       "    </tr>\n",
       "    <tr>\n",
       "      <th>246088</th>\n",
       "      <td>West Bengal</td>\n",
       "      <td>PURULIA</td>\n",
       "      <td>2014</td>\n",
       "      <td>Whole Year</td>\n",
       "      <td>Sugarcane</td>\n",
       "      <td>324.0</td>\n",
       "      <td>16250.0</td>\n",
       "    </tr>\n",
       "    <tr>\n",
       "      <th>246089</th>\n",
       "      <td>West Bengal</td>\n",
       "      <td>PURULIA</td>\n",
       "      <td>2014</td>\n",
       "      <td>Winter</td>\n",
       "      <td>Rice</td>\n",
       "      <td>279151.0</td>\n",
       "      <td>597899.0</td>\n",
       "    </tr>\n",
       "    <tr>\n",
       "      <th>246090</th>\n",
       "      <td>West Bengal</td>\n",
       "      <td>PURULIA</td>\n",
       "      <td>2014</td>\n",
       "      <td>Winter</td>\n",
       "      <td>Sesamum</td>\n",
       "      <td>175.0</td>\n",
       "      <td>88.0</td>\n",
       "    </tr>\n",
       "  </tbody>\n",
       "</table>\n",
       "<p>246091 rows × 7 columns</p>\n",
       "</div>"
      ],
      "text/plain": [
       "                         State_Name District_Name  Crop_Year       Season  \\\n",
       "0       Andaman and Nicobar Islands      NICOBARS       2000  Kharif        \n",
       "1       Andaman and Nicobar Islands      NICOBARS       2000  Kharif        \n",
       "2       Andaman and Nicobar Islands      NICOBARS       2000  Kharif        \n",
       "3       Andaman and Nicobar Islands      NICOBARS       2000  Whole Year    \n",
       "4       Andaman and Nicobar Islands      NICOBARS       2000  Whole Year    \n",
       "...                             ...           ...        ...          ...   \n",
       "246086                  West Bengal       PURULIA       2014  Summer        \n",
       "246087                  West Bengal       PURULIA       2014  Summer        \n",
       "246088                  West Bengal       PURULIA       2014  Whole Year    \n",
       "246089                  West Bengal       PURULIA       2014  Winter        \n",
       "246090                  West Bengal       PURULIA       2014  Winter        \n",
       "\n",
       "                       Crop      Area  Production  \n",
       "0                  Arecanut    1254.0      2000.0  \n",
       "1       Other Kharif pulses       2.0         1.0  \n",
       "2                      Rice     102.0       321.0  \n",
       "3                    Banana     176.0       641.0  \n",
       "4                 Cashewnut     720.0       165.0  \n",
       "...                     ...       ...         ...  \n",
       "246086                 Rice     306.0       801.0  \n",
       "246087              Sesamum     627.0       463.0  \n",
       "246088            Sugarcane     324.0     16250.0  \n",
       "246089                 Rice  279151.0    597899.0  \n",
       "246090              Sesamum     175.0        88.0  \n",
       "\n",
       "[246091 rows x 7 columns]"
      ]
     },
     "execution_count": 145,
     "metadata": {},
     "output_type": "execute_result"
    }
   ],
   "source": [
    "data=pd.read_csv(\"Crop Production data.csv\")\n",
    "data"
   ]
  },
  {
   "cell_type": "code",
   "execution_count": 146,
   "id": "0a9a940c-ecc9-4bd3-9688-84d9a8380164",
   "metadata": {},
   "outputs": [
    {
     "data": {
      "text/plain": [
       "(246091, 7)"
      ]
     },
     "execution_count": 146,
     "metadata": {},
     "output_type": "execute_result"
    }
   ],
   "source": [
    "data.shape"
   ]
  },
  {
   "cell_type": "markdown",
   "id": "e5cc3b28-346e-4717-918f-356a07d3a624",
   "metadata": {},
   "source": [
    "# Data Cleaning"
   ]
  },
  {
   "cell_type": "code",
   "execution_count": 147,
   "id": "3cd2fe4d-f1fa-4d51-bdeb-fa90fc21654a",
   "metadata": {},
   "outputs": [
    {
     "data": {
      "text/plain": [
       "State_Name          0\n",
       "District_Name       0\n",
       "Crop_Year           0\n",
       "Season              0\n",
       "Crop                0\n",
       "Area                0\n",
       "Production       3730\n",
       "dtype: int64"
      ]
     },
     "execution_count": 147,
     "metadata": {},
     "output_type": "execute_result"
    }
   ],
   "source": [
    "data.isnull().sum()"
   ]
  },
  {
   "cell_type": "code",
   "execution_count": 148,
   "id": "998f5e2c-5c85-4129-9c48-6af95ba6e1ee",
   "metadata": {},
   "outputs": [
    {
     "data": {
      "text/plain": [
       "State_Name       0\n",
       "District_Name    0\n",
       "Crop_Year        0\n",
       "Season           0\n",
       "Crop             0\n",
       "Area             0\n",
       "Production       0\n",
       "dtype: int64"
      ]
     },
     "execution_count": 148,
     "metadata": {},
     "output_type": "execute_result"
    }
   ],
   "source": [
    "data.dropna(inplace=True)\n",
    "data.isnull().sum()"
   ]
  },
  {
   "cell_type": "code",
   "execution_count": 149,
   "id": "a438f7c9-bcca-41a5-b9eb-77b875e0c56d",
   "metadata": {},
   "outputs": [
    {
     "data": {
      "text/plain": [
       "np.int64(0)"
      ]
     },
     "execution_count": 149,
     "metadata": {},
     "output_type": "execute_result"
    }
   ],
   "source": [
    "data.duplicated().sum()"
   ]
  },
  {
   "cell_type": "code",
   "execution_count": 150,
   "id": "d4cf062c-6b21-4f54-afa0-511a17090256",
   "metadata": {},
   "outputs": [
    {
     "data": {
      "text/plain": [
       "(242361, 7)"
      ]
     },
     "execution_count": 150,
     "metadata": {},
     "output_type": "execute_result"
    }
   ],
   "source": [
    "data.shape"
   ]
  },
  {
   "cell_type": "code",
   "execution_count": 151,
   "id": "e3f999ba-e281-48e3-b13e-ca2772b8c6a0",
   "metadata": {},
   "outputs": [
    {
     "data": {
      "text/plain": [
       "array(['Kharif     ', 'Whole Year ', 'Autumn     ', 'Rabi       ',\n",
       "       'Summer     ', 'Winter     '], dtype=object)"
      ]
     },
     "execution_count": 151,
     "metadata": {},
     "output_type": "execute_result"
    }
   ],
   "source": [
    "# checking unique type of season\n",
    "data.Season.unique()"
   ]
  },
  {
   "cell_type": "code",
   "execution_count": 152,
   "id": "ab0abaca-2ed4-4562-a24a-3776b07d4b88",
   "metadata": {},
   "outputs": [],
   "source": [
    "# here we remove unwanted white spaces from season column \n",
    "\n",
    "data['Season']=data['Season'].apply(lambda x : x.strip())\n",
    "data['Crop']=data['Crop'].apply(lambda x : x.strip())"
   ]
  },
  {
   "cell_type": "code",
   "execution_count": 153,
   "id": "e19b2833-2b28-44b3-a7a0-2c38eba96c14",
   "metadata": {},
   "outputs": [
    {
     "data": {
      "text/plain": [
       "array(['Kharif', 'Whole Year', 'Autumn', 'Rabi', 'Summer', 'Winter'],\n",
       "      dtype=object)"
      ]
     },
     "execution_count": 153,
     "metadata": {},
     "output_type": "execute_result"
    }
   ],
   "source": [
    "# after removing white spaces\n",
    "\n",
    "data.Season.unique()"
   ]
  },
  {
   "cell_type": "code",
   "execution_count": 154,
   "id": "712fa8cc-a2d9-4127-87a1-69cc5f46a754",
   "metadata": {},
   "outputs": [
    {
     "data": {
      "text/plain": [
       "Season\n",
       "Kharif        94283\n",
       "Rabi          66160\n",
       "Whole Year    56127\n",
       "Summer        14811\n",
       "Winter         6050\n",
       "Autumn         4930\n",
       "Name: count, dtype: int64"
      ]
     },
     "execution_count": 154,
     "metadata": {},
     "output_type": "execute_result"
    }
   ],
   "source": [
    "\n",
    "# checking the values counts of each season\n",
    "\n",
    "data['Season'].value_counts()"
   ]
  },
  {
   "cell_type": "code",
   "execution_count": 189,
   "id": "d358ef99-0ccc-4578-b537-017059734a0c",
   "metadata": {},
   "outputs": [],
   "source": [
    "'''since there are Three types of crop out of which two are mainly seasonal Rabi and Kharif and one is for whole year but\n",
    " 6 crops season were present in our datset.we got to know that summer and Autumn synonyms of Kharif and winter is synonyms of\n",
    " of Rabi so we decided to replace with their original name which is Kharif Rabi'''\n",
    "\n",
    "data['Season']=data['Season'].apply(lambda x : x.replace('Autumn','Kharif'))\n",
    "data['Season']=data['Season'].apply(lambda x : x.replace('Summer','Kharif'))\n",
    "data['Season']=data['Season'].apply(lambda x : x.replace('Winter','Rabi'))"
   ]
  },
  {
   "cell_type": "code",
   "execution_count": 190,
   "id": "a37bf292-20ae-497a-9266-82b65e44b23e",
   "metadata": {},
   "outputs": [
    {
     "data": {
      "text/plain": [
       "Season\n",
       "Kharif        113167\n",
       "Rabi           71686\n",
       "Whole Year     51352\n",
       "Name: count, dtype: int64"
      ]
     },
     "execution_count": 190,
     "metadata": {},
     "output_type": "execute_result"
    }
   ],
   "source": [
    "#Checking values counts of season after replacing wiyh their original name\n",
    "\n",
    "data['Season'].value_counts()"
   ]
  },
  {
   "cell_type": "code",
   "execution_count": 157,
   "id": "28bf6785-cb8a-4f58-94f1-7ae6ffa327a0",
   "metadata": {},
   "outputs": [
    {
     "name": "stdout",
     "output_type": "stream",
     "text": [
      "After removing the row which has 0 Production : 238838\n"
     ]
    }
   ],
   "source": [
    "# we have observed that many values of producation were 0 since it is represntating producation of whole district\n",
    "# so we decided drop all rows whose producation values are zero\n",
    "\n",
    "data.drop(data[data['Production']==0].index,inplace=True)\n",
    "\n",
    "print(f'After removing the row which has 0 Production : {data.shape[0]}')"
   ]
  },
  {
   "cell_type": "code",
   "execution_count": 158,
   "id": "ed8f8a72-804a-40df-9c03-2a5cecd53a71",
   "metadata": {},
   "outputs": [
    {
     "data": {
      "text/plain": [
       "array(['Arecanut', 'Other Kharif pulses', 'Rice', 'Banana', 'Cashewnut',\n",
       "       'Coconut', 'Dry ginger', 'Sugarcane', 'Sweet potato', 'Tapioca',\n",
       "       'Black pepper', 'Dry chillies', 'other oilseeds', 'Turmeric',\n",
       "       'Maize', 'Moong(Green Gram)', 'Urad', 'Arhar/Tur', 'Groundnut',\n",
       "       'Sunflower', 'Bajra', 'Castor seed', 'Cotton(lint)', 'Horse-gram',\n",
       "       'Jowar', 'Korra', 'Ragi', 'Tobacco', 'Gram', 'Wheat', 'Masoor',\n",
       "       'Sesamum', 'Linseed', 'Safflower', 'Onion', 'other misc. pulses',\n",
       "       'Samai', 'Small millets', 'Coriander', 'Potato',\n",
       "       'Other  Rabi pulses', 'Beans & Mutter(Vegetable)', 'Bhindi',\n",
       "       'Brinjal', 'Citrus Fruit', 'Grapes', 'Mango', 'Orange',\n",
       "       'Other Fresh Fruits', 'Papaya', 'Pome Fruit', 'Tomato', 'Soyabean',\n",
       "       'Mesta', 'Cowpea(Lobia)', 'Lemon', 'Pome Granet', 'Sapota',\n",
       "       'Cabbage', 'Rapeseed &Mustard', 'Niger seed', 'Varagu', 'Garlic',\n",
       "       'Ginger', 'Oilseeds total', 'Pulses total', 'Jute',\n",
       "       'Peas & beans (Pulses)', 'Blackgram', 'Paddy', 'Pineapple',\n",
       "       'Barley', 'Sannhamp', 'Khesari', 'Guar seed', 'Other Vegetables',\n",
       "       'Moth', 'Other Cereals & Millets', 'Cond-spcs other', 'Turnip',\n",
       "       'Carrot', 'Redish', 'Arcanut (Processed)', 'Atcanut (Raw)',\n",
       "       'Cashewnut Processed', 'Cashewnut Raw', 'Cardamom', 'Rubber',\n",
       "       'Drum Stick', 'Jack Fruit', 'Tea', 'Coffee', 'Total foodgrain',\n",
       "       'Cauliflower', 'Bitter Gourd', 'Bottle Gourd', 'Kapas',\n",
       "       'Colocosia', 'Lentil', 'Bean', 'Jobster', 'Perilla',\n",
       "       'Rajmash Kholar', 'Ricebean (nagadal)', 'Jute & mesta'],\n",
       "      dtype=object)"
      ]
     },
     "execution_count": 158,
     "metadata": {},
     "output_type": "execute_result"
    }
   ],
   "source": [
    "# checking unique crops names \n",
    "# we observed that many crops were presenyed with their syononame so we decided all syononyms of crops to replace with their popular name\n",
    "# like paddy and rice are same so we replace paddy with Rice\n",
    "# also number of rows of crops sub-category were very less\n",
    "\n",
    "data.Crop.unique()"
   ]
  },
  {
   "cell_type": "code",
   "execution_count": 159,
   "id": "12ea5f07-e1c0-4a25-939e-f01822d5ee44",
   "metadata": {},
   "outputs": [],
   "source": [
    "# we have replaced  kapas to cotton etc.\n",
    "\n",
    "data['Crop']=data['Crop'].apply(lambda x:x.replace('Kapas','Cotton(lint)')\n",
    "                                      .replace('Cotton(lint)','Cotton'))\n",
    "\n",
    "data.replace('Jute & mesta','Jute',inplace=True)\n",
    "data.replace('Mesta','Jute',inplace=True)"
   ]
  },
  {
   "cell_type": "code",
   "execution_count": 160,
   "id": "6d7961e5-b875-471d-9801-69f0fb7ef93b",
   "metadata": {},
   "outputs": [],
   "source": [
    "# we have replace sub-category of pulses with pulse\n",
    "\n",
    "data['Crop']=data['Crop'].apply(lambda x:x.replace('Other Kharif pulses','pulses')\n",
    "                                    .replace('Other  Rabi pulses','pulses')\n",
    "                                    .replace('Peas & beans (Pulses)','pulses')\n",
    "                                    .replace('Pulses total','pulses')\n",
    "                                    .replace('other misc. pulses','pulses')\n",
    "                                    .replace('Moong(Green Gram)','pulses')\n",
    "                                    .replace('Urad','pulses')\n",
    "                                    .replace('Arhar/Tur','pulses')\n",
    "                                    .replace('Bean','pulses')\n",
    "                                    .replace('Ricebean (nagadal)','pulses')\n",
    "                                    .replace('Lentil','pulses')\n",
    "                                    .replace('Masoor','pulses')\n",
    "                                    .replace('Khesari','pulses')\n",
    "                                    .replace('Horse-gram','pulses')\n",
    "                                    .replace('Rajmash Kholar','pulses'))"
   ]
  },
  {
   "cell_type": "code",
   "execution_count": 161,
   "id": "7b32defd-fc9a-477a-ab6b-99645b9513b6",
   "metadata": {},
   "outputs": [],
   "source": [
    "#we have corrected spelling mistake\n",
    "\n",
    "data['Crop']=data['Crop'].apply(lambda x:x\n",
    "                                    .replace('Atcanut (Raw)','Arecanut')\n",
    "                                    .replace('Arcanut (Processed)','Arecanut')\n",
    "                                    .replace('Arecanut','Arecanut'))"
   ]
  },
  {
   "cell_type": "code",
   "execution_count": 162,
   "id": "e05279b1-5fc8-48b7-bb36-13c81b40daca",
   "metadata": {},
   "outputs": [],
   "source": [
    "# we have replaced varienty of spices with othe spices\n",
    "\n",
    "data['Crop']=data['Crop'].apply(lambda x:x\n",
    "                                    .replace('Black pepper','Other Spices')\n",
    "                                    .replace('Cardamom','Other Spices')\n",
    "                                    .replace('Perilla','Other Spices'))"
   ]
  },
  {
   "cell_type": "code",
   "execution_count": 163,
   "id": "786f7053-cbde-44e6-8656-7d35e875c6e0",
   "metadata": {},
   "outputs": [],
   "source": [
    "#since number of rows for every fruits category were very less so we decided to megre all to fruits\n",
    "\n",
    "data['Crop']=data['Crop'].apply(lambda x:x\n",
    "                                    .replace('Papaya','Fruits')\n",
    "                                    .replace('Mango','Fruits')\n",
    "                                     .replace('Orange','Fruits')\n",
    "                                     .replace('Other Fresh Fruits','Fruits')\n",
    "                                     .replace('Pineapple','Fruits')\n",
    "                                     .replace('Citrus Fruit','Fruits')\n",
    "                                     .replace('Pome Fruit','Fruits')\n",
    "                                     .replace('Pome Granet','Fruits')\n",
    "                                     .replace('Grapes','Fruits')\n",
    "                                     .replace('Jack Fruit','Fruits')\n",
    "                                     .replace('Sapota','Fruits')\n",
    "                                     .replace('Lemon','Fruits'))"
   ]
  },
  {
   "cell_type": "code",
   "execution_count": 164,
   "id": "7db22237-7836-4168-a227-fdd188ee5297",
   "metadata": {},
   "outputs": [],
   "source": [
    "# we have replace sub-category with their main-category \n",
    "\n",
    "data['Crop']=data['Crop'].apply(lambda x:x\n",
    "                                    .replace('Ginger','Dry ginger'))\n",
    "\n",
    "data['Crop']=data['Crop'].apply(lambda x:x\n",
    "                                    .replace('Turnip','Onion'))\n",
    "\n",
    "data['Crop']=data['Crop'].apply(lambda x:x\n",
    "                                      .replace('Cashewnut Raw','Cashewnut')\n",
    "                                      .replace('Cashewnut Processed','Cashewnut'))"
   ]
  },
  {
   "cell_type": "code",
   "execution_count": 165,
   "id": "b8628353-19f1-42bf-9be5-b12649ae4bee",
   "metadata": {},
   "outputs": [],
   "source": [
    "# we have replace sub-category of gram with their main-category \n",
    "\n",
    "data['Crop']=data['Crop'].apply(lambda x:x\n",
    "                                      .replace('black gram','gram')\n",
    "                                     .replace('Moth','gram')\n",
    "                                     .replace('Blackgram','gram'))"
   ]
  },
  {
   "cell_type": "code",
   "execution_count": 166,
   "id": "93be6bb3-ab1d-42ef-ac5b-9e296f04efff",
   "metadata": {},
   "outputs": [],
   "source": [
    "# we have replace other Oilseeds total to  other oilseeds\n",
    "\n",
    "data['Crop']=data['Crop'].apply(lambda x:x\n",
    "                                      .replace('Oilseeds total' ,'other oilseeds')\n",
    "                                      .replace('Niger seed' ,'other oilseeds'))"
   ]
  },
  {
   "cell_type": "code",
   "execution_count": 167,
   "id": "824aea48-e5a4-4535-83ba-27e7d9159136",
   "metadata": {},
   "outputs": [],
   "source": [
    "# we have replace sub-category of milltes with their main-category \n",
    "\n",
    "data['Crop']=data['Crop'].apply(lambda x:x\n",
    "                                      .replace('Other Cereals & Millets' ,'Bajra')\n",
    "                                      .replace('Samai' ,'Bajra')\n",
    "                                      .replace('Small millets' ,'Bajra')\n",
    "                                      .replace('Ragi','Bajra')\n",
    "                                      .replace('Varagu','Bajra')\n",
    "                                      .replace('Jobster','Bajra'))"
   ]
  },
  {
   "cell_type": "code",
   "execution_count": 168,
   "id": "15b903db-6ee5-406f-a495-e596801b1893",
   "metadata": {},
   "outputs": [],
   "source": [
    "# we have replace sub-category of Vegetables with their main-category \n",
    "\n",
    "data['Crop']=data['Crop'].apply(lambda x:x\n",
    "                                     .replace('Coriander' ,'Other Vegetables')\n",
    "                                     .replace('pulsess & Mutter(Vegetable)' ,'Other Vegetables')\n",
    "                                     .replace('Bhindi' ,'Other Vegetables')\n",
    "                                     .replace('Tomato','Other Vegetables')\n",
    "                                     .replace('Cowpea(Lobia)','Other Vegetables')\n",
    "                                     .replace('Cabbage','Other Vegetables')\n",
    "                                     .replace('Carrot','Other Vegetables')\n",
    "                                     .replace('Drum Stick','Other Vegetables')\n",
    "                                     .replace('Redish','Other Vegetables')\n",
    "                                     .replace('Cauliflower','Other Vegetables')\n",
    "                                     .replace('Colocosia','Other Vegetables')\n",
    "                                     .replace('Brinjal','Other Vegetables')\n",
    "                                     .replace('Bottle Gourd','Other Vegetables')\n",
    "                                     .replace('Bitter Gourd','Other Vegetables'))"
   ]
  },
  {
   "cell_type": "code",
   "execution_count": 169,
   "id": "7bbe3612-d03d-404d-ba76-53a7b2e47ced",
   "metadata": {},
   "outputs": [],
   "source": [
    "#we have replace sub-category with their main-category\n",
    "\n",
    "data['Crop']=data['Crop'].apply(lambda x:x.replace('Niger seed','Sesamum'))\n",
    "data['Crop']=data['Crop'].apply(lambda x:x.replace('Korra','Total foodgrain'))\n",
    "data['Crop']=data['Crop'].apply(lambda x:x.replace('Paddy','Rice'))"
   ]
  },
  {
   "cell_type": "code",
   "execution_count": 170,
   "id": "647536f1-52a6-49aa-90db-1d4f8527fa3b",
   "metadata": {},
   "outputs": [],
   "source": [
    "#we have observed some cropes rows are very very less so it wont make any sense to visualization so we decided to drop those rows\n",
    "\n",
    "data.drop(data[data['Crop']=='Tea'].index,inplace=True)\n",
    "data.drop(data[data['Crop']=='Coffee'].index,inplace=True)\n",
    "data.drop(data[data['Crop']=='Rubber'].index,inplace=True)\n",
    "data.drop(data[data['Crop']=='Cond-spcs other'].index,inplace=True)"
   ]
  },
  {
   "cell_type": "code",
   "execution_count": 171,
   "id": "d9c301a1-5b14-46bf-9d9f-6ccc09755bda",
   "metadata": {},
   "outputs": [
    {
     "data": {
      "text/plain": [
       "array(['Arecanut', 'pulses', 'Rice', 'Banana', 'Cashewnut', 'Coconut',\n",
       "       'Dry ginger', 'Sugarcane', 'Sweet potato', 'Tapioca',\n",
       "       'Other Spices', 'Dry chillies', 'other oilseeds', 'Turmeric',\n",
       "       'Maize', 'Groundnut', 'Sunflower', 'Bajra', 'Castor seed',\n",
       "       'Cotton', 'Jowar', 'Total foodgrain', 'Tobacco', 'Gram', 'Wheat',\n",
       "       'Sesamum', 'Linseed', 'Safflower', 'Onion', 'Other Vegetables',\n",
       "       'Potato', 'Fruits', 'Soyabean', 'Jute', 'Rapeseed &Mustard',\n",
       "       'Garlic', 'gram', 'Barley', 'Sannhamp', 'Guar seed'], dtype=object)"
      ]
     },
     "execution_count": 171,
     "metadata": {},
     "output_type": "execute_result"
    }
   ],
   "source": [
    "# checking unique crops types after replacement\n",
    "\n",
    "data.Crop.unique()"
   ]
  },
  {
   "cell_type": "code",
   "execution_count": 172,
   "id": "b1b685bb-21d7-46ce-896a-6748a2ca2f0c",
   "metadata": {},
   "outputs": [],
   "source": [
    "# Since india very big country for better vislization we will divide states name in four zone (East , West , North ,South) \n",
    "# details of these zones are mentioned below\n",
    "West_India= ['Maharashtra','Goa','Gujarat','Dadra and Nagar Haveli']\n",
    "East_India= ['Arunachal Pradesh','Assam','Manipur','Meghalaya','Mizoram','Nagaland','Sikkim','Tripura','West Bengal','Bihar','Odisha','Jharkhand' ]\n",
    "North_India=['Jammu and Kashmir ','Himachal Pradesh','Punjab','Uttarakhand','Haryana','Rajasthan','Uttar Pradesh','Chandigarh','Madhya Pradesh','Chhattisgarh']   # Delhi\n",
    "South_India = ['Andhra Pradesh','Karnataka','Kerala','Tamil Nadu','Telangana','Puducherry']"
   ]
  },
  {
   "cell_type": "code",
   "execution_count": 173,
   "id": "c5a284fa-1719-4a68-8d10-ad91df422a4a",
   "metadata": {},
   "outputs": [],
   "source": [
    "# creating a list for zones\n",
    "zone = []\n",
    "\n",
    "for df in data['State_Name']:\n",
    "    if df in West_India:\n",
    "         zone.append('West India')\n",
    "    elif df in East_India:\n",
    "         zone.append('EastIndia')\n",
    "    elif df in North_India:\n",
    "         zone.append('North India')\n",
    "    elif df in South_India: \n",
    "         zone.append('South India')\n",
    "    else:\n",
    "         zone.append('Union Territory')"
   ]
  },
  {
   "cell_type": "code",
   "execution_count": 174,
   "id": "ebf2bb97-e651-4756-a620-f3086d8395d6",
   "metadata": {},
   "outputs": [],
   "source": [
    "# creatinh new column \n",
    "data['zone'] = zone"
   ]
  },
  {
   "cell_type": "code",
   "execution_count": 175,
   "id": "e1f2be68-fede-4854-b30d-41ee435c6312",
   "metadata": {},
   "outputs": [],
   "source": [
    "# Adding a new column of yield into our data\n",
    "data['Yield']=data['Production']/data['Area']"
   ]
  },
  {
   "cell_type": "code",
   "execution_count": 176,
   "id": "191b631c-0646-46a0-b2dc-bdbc0355febe",
   "metadata": {},
   "outputs": [
    {
     "data": {
      "text/html": [
       "<div>\n",
       "<style scoped>\n",
       "    .dataframe tbody tr th:only-of-type {\n",
       "        vertical-align: middle;\n",
       "    }\n",
       "\n",
       "    .dataframe tbody tr th {\n",
       "        vertical-align: top;\n",
       "    }\n",
       "\n",
       "    .dataframe thead th {\n",
       "        text-align: right;\n",
       "    }\n",
       "</style>\n",
       "<table border=\"1\" class=\"dataframe\">\n",
       "  <thead>\n",
       "    <tr style=\"text-align: right;\">\n",
       "      <th></th>\n",
       "      <th>State_Name</th>\n",
       "      <th>District_Name</th>\n",
       "      <th>Crop_Year</th>\n",
       "      <th>Season</th>\n",
       "      <th>Crop</th>\n",
       "      <th>Area</th>\n",
       "      <th>Production</th>\n",
       "      <th>zone</th>\n",
       "      <th>Yield</th>\n",
       "    </tr>\n",
       "  </thead>\n",
       "  <tbody>\n",
       "    <tr>\n",
       "      <th>0</th>\n",
       "      <td>Andaman and Nicobar Islands</td>\n",
       "      <td>NICOBARS</td>\n",
       "      <td>2000</td>\n",
       "      <td>Kharif</td>\n",
       "      <td>Arecanut</td>\n",
       "      <td>1254.0</td>\n",
       "      <td>2000.0</td>\n",
       "      <td>Union Territory</td>\n",
       "      <td>1.594896</td>\n",
       "    </tr>\n",
       "    <tr>\n",
       "      <th>1</th>\n",
       "      <td>Andaman and Nicobar Islands</td>\n",
       "      <td>NICOBARS</td>\n",
       "      <td>2000</td>\n",
       "      <td>Kharif</td>\n",
       "      <td>pulses</td>\n",
       "      <td>2.0</td>\n",
       "      <td>1.0</td>\n",
       "      <td>Union Territory</td>\n",
       "      <td>0.500000</td>\n",
       "    </tr>\n",
       "    <tr>\n",
       "      <th>2</th>\n",
       "      <td>Andaman and Nicobar Islands</td>\n",
       "      <td>NICOBARS</td>\n",
       "      <td>2000</td>\n",
       "      <td>Kharif</td>\n",
       "      <td>Rice</td>\n",
       "      <td>102.0</td>\n",
       "      <td>321.0</td>\n",
       "      <td>Union Territory</td>\n",
       "      <td>3.147059</td>\n",
       "    </tr>\n",
       "    <tr>\n",
       "      <th>3</th>\n",
       "      <td>Andaman and Nicobar Islands</td>\n",
       "      <td>NICOBARS</td>\n",
       "      <td>2000</td>\n",
       "      <td>Whole Year</td>\n",
       "      <td>Banana</td>\n",
       "      <td>176.0</td>\n",
       "      <td>641.0</td>\n",
       "      <td>Union Territory</td>\n",
       "      <td>3.642045</td>\n",
       "    </tr>\n",
       "    <tr>\n",
       "      <th>4</th>\n",
       "      <td>Andaman and Nicobar Islands</td>\n",
       "      <td>NICOBARS</td>\n",
       "      <td>2000</td>\n",
       "      <td>Whole Year</td>\n",
       "      <td>Cashewnut</td>\n",
       "      <td>720.0</td>\n",
       "      <td>165.0</td>\n",
       "      <td>Union Territory</td>\n",
       "      <td>0.229167</td>\n",
       "    </tr>\n",
       "    <tr>\n",
       "      <th>...</th>\n",
       "      <td>...</td>\n",
       "      <td>...</td>\n",
       "      <td>...</td>\n",
       "      <td>...</td>\n",
       "      <td>...</td>\n",
       "      <td>...</td>\n",
       "      <td>...</td>\n",
       "      <td>...</td>\n",
       "      <td>...</td>\n",
       "    </tr>\n",
       "    <tr>\n",
       "      <th>246086</th>\n",
       "      <td>West Bengal</td>\n",
       "      <td>PURULIA</td>\n",
       "      <td>2014</td>\n",
       "      <td>Kharif</td>\n",
       "      <td>Rice</td>\n",
       "      <td>306.0</td>\n",
       "      <td>801.0</td>\n",
       "      <td>EastIndia</td>\n",
       "      <td>2.617647</td>\n",
       "    </tr>\n",
       "    <tr>\n",
       "      <th>246087</th>\n",
       "      <td>West Bengal</td>\n",
       "      <td>PURULIA</td>\n",
       "      <td>2014</td>\n",
       "      <td>Kharif</td>\n",
       "      <td>Sesamum</td>\n",
       "      <td>627.0</td>\n",
       "      <td>463.0</td>\n",
       "      <td>EastIndia</td>\n",
       "      <td>0.738437</td>\n",
       "    </tr>\n",
       "    <tr>\n",
       "      <th>246088</th>\n",
       "      <td>West Bengal</td>\n",
       "      <td>PURULIA</td>\n",
       "      <td>2014</td>\n",
       "      <td>Whole Year</td>\n",
       "      <td>Sugarcane</td>\n",
       "      <td>324.0</td>\n",
       "      <td>16250.0</td>\n",
       "      <td>EastIndia</td>\n",
       "      <td>50.154321</td>\n",
       "    </tr>\n",
       "    <tr>\n",
       "      <th>246089</th>\n",
       "      <td>West Bengal</td>\n",
       "      <td>PURULIA</td>\n",
       "      <td>2014</td>\n",
       "      <td>Rabi</td>\n",
       "      <td>Rice</td>\n",
       "      <td>279151.0</td>\n",
       "      <td>597899.0</td>\n",
       "      <td>EastIndia</td>\n",
       "      <td>2.141848</td>\n",
       "    </tr>\n",
       "    <tr>\n",
       "      <th>246090</th>\n",
       "      <td>West Bengal</td>\n",
       "      <td>PURULIA</td>\n",
       "      <td>2014</td>\n",
       "      <td>Rabi</td>\n",
       "      <td>Sesamum</td>\n",
       "      <td>175.0</td>\n",
       "      <td>88.0</td>\n",
       "      <td>EastIndia</td>\n",
       "      <td>0.502857</td>\n",
       "    </tr>\n",
       "  </tbody>\n",
       "</table>\n",
       "<p>238723 rows × 9 columns</p>\n",
       "</div>"
      ],
      "text/plain": [
       "                         State_Name District_Name  Crop_Year      Season  \\\n",
       "0       Andaman and Nicobar Islands      NICOBARS       2000      Kharif   \n",
       "1       Andaman and Nicobar Islands      NICOBARS       2000      Kharif   \n",
       "2       Andaman and Nicobar Islands      NICOBARS       2000      Kharif   \n",
       "3       Andaman and Nicobar Islands      NICOBARS       2000  Whole Year   \n",
       "4       Andaman and Nicobar Islands      NICOBARS       2000  Whole Year   \n",
       "...                             ...           ...        ...         ...   \n",
       "246086                  West Bengal       PURULIA       2014      Kharif   \n",
       "246087                  West Bengal       PURULIA       2014      Kharif   \n",
       "246088                  West Bengal       PURULIA       2014  Whole Year   \n",
       "246089                  West Bengal       PURULIA       2014        Rabi   \n",
       "246090                  West Bengal       PURULIA       2014        Rabi   \n",
       "\n",
       "             Crop      Area  Production             zone      Yield  \n",
       "0        Arecanut    1254.0      2000.0  Union Territory   1.594896  \n",
       "1          pulses       2.0         1.0  Union Territory   0.500000  \n",
       "2            Rice     102.0       321.0  Union Territory   3.147059  \n",
       "3          Banana     176.0       641.0  Union Territory   3.642045  \n",
       "4       Cashewnut     720.0       165.0  Union Territory   0.229167  \n",
       "...           ...       ...         ...              ...        ...  \n",
       "246086       Rice     306.0       801.0        EastIndia   2.617647  \n",
       "246087    Sesamum     627.0       463.0        EastIndia   0.738437  \n",
       "246088  Sugarcane     324.0     16250.0        EastIndia  50.154321  \n",
       "246089       Rice  279151.0    597899.0        EastIndia   2.141848  \n",
       "246090    Sesamum     175.0        88.0        EastIndia   0.502857  \n",
       "\n",
       "[238723 rows x 9 columns]"
      ]
     },
     "execution_count": 176,
     "metadata": {},
     "output_type": "execute_result"
    }
   ],
   "source": [
    "data"
   ]
  },
  {
   "cell_type": "code",
   "execution_count": 177,
   "id": "0dd36468-1f31-4250-93f6-fa07d270d9f5",
   "metadata": {},
   "outputs": [
    {
     "data": {
      "text/plain": [
       "Crop_Year\n",
       "2003    15541\n",
       "2002    15060\n",
       "2007    14261\n",
       "2008    14230\n",
       "2006    13976\n",
       "2004    13834\n",
       "2010    13793\n",
       "2011    13791\n",
       "2009    13767\n",
       "2005    13519\n",
       "2013    13474\n",
       "2000    13393\n",
       "2012    13183\n",
       "2001    13107\n",
       "1999    12258\n",
       "1998    11262\n",
       "2014    10814\n",
       "1997     8899\n",
       "2015      561\n",
       "Name: count, dtype: int64"
      ]
     },
     "execution_count": 177,
     "metadata": {},
     "output_type": "execute_result"
    }
   ],
   "source": [
    "# checking value counts of year in dataset\n",
    "\n",
    "data['Crop_Year'].value_counts()"
   ]
  },
  {
   "cell_type": "code",
   "execution_count": 178,
   "id": "4bc96873-a56e-4a3e-accb-285bd2536b27",
   "metadata": {},
   "outputs": [],
   "source": [
    "# sinces the number of rows for year 2015 is very less so it will not give correct visualization for year 2015 \n",
    "# so we decided to remove it from dataset\n",
    "\n",
    "data.drop(data[data['Crop_Year'] == 2015].index,inplace=True)"
   ]
  },
  {
   "cell_type": "code",
   "execution_count": 179,
   "id": "2a3ee985-8203-4f38-8757-4b2f691014de",
   "metadata": {},
   "outputs": [],
   "source": [
    "val=data.groupby('Crop').sum().sort_values(by='Production',ascending = False)['Production'].values\n",
    "lab=data.groupby('Crop').sum().sort_values(by='Production',ascending = False)['Production'].index"
   ]
  },
  {
   "cell_type": "code",
   "execution_count": 180,
   "id": "333cdb04-1b36-476c-a869-24a682b1d36e",
   "metadata": {},
   "outputs": [
    {
     "data": {
      "image/png": "[encoded data removed]",
      "text/plain": [
       "<Figure size 1000x800 with 1 Axes>"
      ]
     },
     "metadata": {},
     "output_type": "display_data"
    }
   ],
   "source": [
    "# we plotted pie chart of Production of different crops to check the outliers in crops\n",
    "plt.figure(figsize=(10,8))\n",
    "plt.pie(val,labels=lab,autopct='%0.1f%%')\n",
    "plt.show()"
   ]
  },
  {
   "cell_type": "code",
   "execution_count": 181,
   "id": "d8170f62-8bff-4c60-82fa-ff1ed44aa12d",
   "metadata": {},
   "outputs": [],
   "source": [
    "# we have observed that Production of coconut is more than 92% of total Production so we not able to visualize our dataset\n",
    "# so we have decided to visualize coconut seprately\n",
    "\n",
    "coconut_df = data[data['Crop'] == 'Coconut']\n",
    "\n",
    "coconut_df.to_csv('coconut_df.csv')\n",
    "\n",
    "data.drop(data[data['Crop']=='Coconut'].index,inplace=True)"
   ]
  },
  {
   "cell_type": "code",
   "execution_count": 182,
   "id": "21e79cb3-bf43-410b-8f5f-0102fbc290b6",
   "metadata": {},
   "outputs": [
    {
     "data": {
      "image/png": "[encoded data removed]",
      "text/plain": [
       "<Figure size 1000x800 with 1 Axes>"
      ]
     },
     "metadata": {},
     "output_type": "display_data"
    }
   ],
   "source": [
    "# we plotted pie chart between total Production and different types of crops after removing outlier \n",
    "\n",
    "val=data.groupby('Crop').sum().sort_values(by='Production',ascending = False)['Production'].values\n",
    "lab=data.groupby('Crop').sum().sort_values(by='Production',ascending = False)['Production'].index\n",
    "# we have observed that now our dataset is balance\n",
    "\n",
    "plt.figure(figsize=(10,8))\n",
    "plt.pie(val,labels=lab,autopct='%0.1f%%')\n",
    "plt.show()"
   ]
  },
  {
   "cell_type": "code",
   "execution_count": 185,
   "id": "dcea62e5-2ae2-474f-a7d0-83c1759a295c",
   "metadata": {},
   "outputs": [],
   "source": [
    "data.to_csv('Cleaned_Crop_Data.csv')"
   ]
  },
  {
   "cell_type": "code",
   "execution_count": 186,
   "id": "cc65fbbe-1bb6-4457-b099-ad54c2ad3d93",
   "metadata": {},
   "outputs": [
    {
     "data": {
      "text/html": [
       "<div>\n",
       "<style scoped>\n",
       "    .dataframe tbody tr th:only-of-type {\n",
       "        vertical-align: middle;\n",
       "    }\n",
       "\n",
       "    .dataframe tbody tr th {\n",
       "        vertical-align: top;\n",
       "    }\n",
       "\n",
       "    .dataframe thead th {\n",
       "        text-align: right;\n",
       "    }\n",
       "</style>\n",
       "<table border=\"1\" class=\"dataframe\">\n",
       "  <thead>\n",
       "    <tr style=\"text-align: right;\">\n",
       "      <th></th>\n",
       "      <th>Unnamed: 0</th>\n",
       "      <th>State_Name</th>\n",
       "      <th>District_Name</th>\n",
       "      <th>Crop_Year</th>\n",
       "      <th>Season</th>\n",
       "      <th>Crop</th>\n",
       "      <th>Area</th>\n",
       "      <th>Production</th>\n",
       "      <th>zone</th>\n",
       "      <th>Yield</th>\n",
       "    </tr>\n",
       "  </thead>\n",
       "  <tbody>\n",
       "    <tr>\n",
       "      <th>0</th>\n",
       "      <td>0</td>\n",
       "      <td>Andaman and Nicobar Islands</td>\n",
       "      <td>NICOBARS</td>\n",
       "      <td>2000</td>\n",
       "      <td>Kharif</td>\n",
       "      <td>Arecanut</td>\n",
       "      <td>1254.0</td>\n",
       "      <td>2000.0</td>\n",
       "      <td>Union Territory</td>\n",
       "      <td>1.594896</td>\n",
       "    </tr>\n",
       "    <tr>\n",
       "      <th>1</th>\n",
       "      <td>1</td>\n",
       "      <td>Andaman and Nicobar Islands</td>\n",
       "      <td>NICOBARS</td>\n",
       "      <td>2000</td>\n",
       "      <td>Kharif</td>\n",
       "      <td>pulses</td>\n",
       "      <td>2.0</td>\n",
       "      <td>1.0</td>\n",
       "      <td>Union Territory</td>\n",
       "      <td>0.500000</td>\n",
       "    </tr>\n",
       "    <tr>\n",
       "      <th>2</th>\n",
       "      <td>2</td>\n",
       "      <td>Andaman and Nicobar Islands</td>\n",
       "      <td>NICOBARS</td>\n",
       "      <td>2000</td>\n",
       "      <td>Kharif</td>\n",
       "      <td>Rice</td>\n",
       "      <td>102.0</td>\n",
       "      <td>321.0</td>\n",
       "      <td>Union Territory</td>\n",
       "      <td>3.147059</td>\n",
       "    </tr>\n",
       "    <tr>\n",
       "      <th>3</th>\n",
       "      <td>3</td>\n",
       "      <td>Andaman and Nicobar Islands</td>\n",
       "      <td>NICOBARS</td>\n",
       "      <td>2000</td>\n",
       "      <td>Whole Year</td>\n",
       "      <td>Banana</td>\n",
       "      <td>176.0</td>\n",
       "      <td>641.0</td>\n",
       "      <td>Union Territory</td>\n",
       "      <td>3.642045</td>\n",
       "    </tr>\n",
       "    <tr>\n",
       "      <th>4</th>\n",
       "      <td>4</td>\n",
       "      <td>Andaman and Nicobar Islands</td>\n",
       "      <td>NICOBARS</td>\n",
       "      <td>2000</td>\n",
       "      <td>Whole Year</td>\n",
       "      <td>Cashewnut</td>\n",
       "      <td>720.0</td>\n",
       "      <td>165.0</td>\n",
       "      <td>Union Territory</td>\n",
       "      <td>0.229167</td>\n",
       "    </tr>\n",
       "    <tr>\n",
       "      <th>...</th>\n",
       "      <td>...</td>\n",
       "      <td>...</td>\n",
       "      <td>...</td>\n",
       "      <td>...</td>\n",
       "      <td>...</td>\n",
       "      <td>...</td>\n",
       "      <td>...</td>\n",
       "      <td>...</td>\n",
       "      <td>...</td>\n",
       "      <td>...</td>\n",
       "    </tr>\n",
       "    <tr>\n",
       "      <th>236200</th>\n",
       "      <td>246086</td>\n",
       "      <td>West Bengal</td>\n",
       "      <td>PURULIA</td>\n",
       "      <td>2014</td>\n",
       "      <td>Kharif</td>\n",
       "      <td>Rice</td>\n",
       "      <td>306.0</td>\n",
       "      <td>801.0</td>\n",
       "      <td>EastIndia</td>\n",
       "      <td>2.617647</td>\n",
       "    </tr>\n",
       "    <tr>\n",
       "      <th>236201</th>\n",
       "      <td>246087</td>\n",
       "      <td>West Bengal</td>\n",
       "      <td>PURULIA</td>\n",
       "      <td>2014</td>\n",
       "      <td>Kharif</td>\n",
       "      <td>Sesamum</td>\n",
       "      <td>627.0</td>\n",
       "      <td>463.0</td>\n",
       "      <td>EastIndia</td>\n",
       "      <td>0.738437</td>\n",
       "    </tr>\n",
       "    <tr>\n",
       "      <th>236202</th>\n",
       "      <td>246088</td>\n",
       "      <td>West Bengal</td>\n",
       "      <td>PURULIA</td>\n",
       "      <td>2014</td>\n",
       "      <td>Whole Year</td>\n",
       "      <td>Sugarcane</td>\n",
       "      <td>324.0</td>\n",
       "      <td>16250.0</td>\n",
       "      <td>EastIndia</td>\n",
       "      <td>50.154321</td>\n",
       "    </tr>\n",
       "    <tr>\n",
       "      <th>236203</th>\n",
       "      <td>246089</td>\n",
       "      <td>West Bengal</td>\n",
       "      <td>PURULIA</td>\n",
       "      <td>2014</td>\n",
       "      <td>Rabi</td>\n",
       "      <td>Rice</td>\n",
       "      <td>279151.0</td>\n",
       "      <td>597899.0</td>\n",
       "      <td>EastIndia</td>\n",
       "      <td>2.141848</td>\n",
       "    </tr>\n",
       "    <tr>\n",
       "      <th>236204</th>\n",
       "      <td>246090</td>\n",
       "      <td>West Bengal</td>\n",
       "      <td>PURULIA</td>\n",
       "      <td>2014</td>\n",
       "      <td>Rabi</td>\n",
       "      <td>Sesamum</td>\n",
       "      <td>175.0</td>\n",
       "      <td>88.0</td>\n",
       "      <td>EastIndia</td>\n",
       "      <td>0.502857</td>\n",
       "    </tr>\n",
       "  </tbody>\n",
       "</table>\n",
       "<p>236205 rows × 10 columns</p>\n",
       "</div>"
      ],
      "text/plain": [
       "        Unnamed: 0                   State_Name District_Name  Crop_Year  \\\n",
       "0                0  Andaman and Nicobar Islands      NICOBARS       2000   \n",
       "1                1  Andaman and Nicobar Islands      NICOBARS       2000   \n",
       "2                2  Andaman and Nicobar Islands      NICOBARS       2000   \n",
       "3                3  Andaman and Nicobar Islands      NICOBARS       2000   \n",
       "4                4  Andaman and Nicobar Islands      NICOBARS       2000   \n",
       "...            ...                          ...           ...        ...   \n",
       "236200      246086                  West Bengal       PURULIA       2014   \n",
       "236201      246087                  West Bengal       PURULIA       2014   \n",
       "236202      246088                  West Bengal       PURULIA       2014   \n",
       "236203      246089                  West Bengal       PURULIA       2014   \n",
       "236204      246090                  West Bengal       PURULIA       2014   \n",
       "\n",
       "            Season       Crop      Area  Production             zone  \\\n",
       "0           Kharif   Arecanut    1254.0      2000.0  Union Territory   \n",
       "1           Kharif     pulses       2.0         1.0  Union Territory   \n",
       "2           Kharif       Rice     102.0       321.0  Union Territory   \n",
       "3       Whole Year     Banana     176.0       641.0  Union Territory   \n",
       "4       Whole Year  Cashewnut     720.0       165.0  Union Territory   \n",
       "...            ...        ...       ...         ...              ...   \n",
       "236200      Kharif       Rice     306.0       801.0        EastIndia   \n",
       "236201      Kharif    Sesamum     627.0       463.0        EastIndia   \n",
       "236202  Whole Year  Sugarcane     324.0     16250.0        EastIndia   \n",
       "236203        Rabi       Rice  279151.0    597899.0        EastIndia   \n",
       "236204        Rabi    Sesamum     175.0        88.0        EastIndia   \n",
       "\n",
       "            Yield  \n",
       "0        1.594896  \n",
       "1        0.500000  \n",
       "2        3.147059  \n",
       "3        3.642045  \n",
       "4        0.229167  \n",
       "...           ...  \n",
       "236200   2.617647  \n",
       "236201   0.738437  \n",
       "236202  50.154321  \n",
       "236203   2.141848  \n",
       "236204   0.502857  \n",
       "\n",
       "[236205 rows x 10 columns]"
      ]
     },
     "execution_count": 186,
     "metadata": {},
     "output_type": "execute_result"
    }
   ],
   "source": [
    "new_data=pd.read_csv(\"Cleaned_Crop_Data.csv\")\n",
    "new_data"
   ]
  },
  {
   "cell_type": "markdown",
   "id": "dc7d28ab-3984-43da-a1db-fd1c1d5965a9",
   "metadata": {},
   "source": [
    "# Data Visualization"
   ]
  },
  {
   "cell_type": "code",
   "execution_count": 187,
   "id": "5fffd13e-d30f-4271-a373-04b651cbefea",
   "metadata": {},
   "outputs": [
    {
     "name": "stdout",
     "output_type": "stream",
     "text": [
      "1 .  Andaman and Nicobar Islands\n",
      "2 .  Andhra Pradesh\n",
      "3 .  Arunachal Pradesh\n",
      "4 .  Assam\n",
      "5 .  Bihar\n",
      "6 .  Chandigarh\n",
      "7 .  Chhattisgarh\n",
      "8 .  Dadra and Nagar Haveli\n",
      "9 .  Goa\n",
      "10 .  Gujarat\n",
      "11 .  Haryana\n",
      "12 .  Himachal Pradesh\n",
      "13 .  Jammu and Kashmir \n",
      "14 .  Jharkhand\n",
      "15 .  Karnataka\n",
      "16 .  Kerala\n",
      "17 .  Madhya Pradesh\n",
      "18 .  Maharashtra\n",
      "19 .  Manipur\n",
      "20 .  Meghalaya\n",
      "21 .  Mizoram\n",
      "22 .  Nagaland\n",
      "23 .  Odisha\n",
      "24 .  Puducherry\n",
      "25 .  Punjab\n",
      "26 .  Rajasthan\n",
      "27 .  Sikkim\n",
      "28 .  Tamil Nadu\n",
      "29 .  Telangana \n",
      "30 .  Tripura\n",
      "31 .  Uttar Pradesh\n",
      "32 .  Uttarakhand\n",
      "33 .  West Bengal\n"
     ]
    }
   ],
   "source": [
    "unique_states= new_data.State_Name.unique()\n",
    "for i in range (len(unique_states)):\n",
    "    print(i+1,\". \",unique_states[i])"
   ]
  },
  {
   "cell_type": "code",
   "execution_count": 188,
   "id": "d15ca882-c690-4b3c-96e0-400a4ba01464",
   "metadata": {},
   "outputs": [
    {
     "name": "stdout",
     "output_type": "stream",
     "text": [
      "total number of districts:  652\n"
     ]
    },
    {
     "data": {
      "text/html": [
       "<div>\n",
       "<style scoped>\n",
       "    .dataframe tbody tr th:only-of-type {\n",
       "        vertical-align: middle;\n",
       "    }\n",
       "\n",
       "    .dataframe tbody tr th {\n",
       "        vertical-align: top;\n",
       "    }\n",
       "\n",
       "    .dataframe thead th {\n",
       "        text-align: right;\n",
       "    }\n",
       "</style>\n",
       "<table border=\"1\" class=\"dataframe\">\n",
       "  <thead>\n",
       "    <tr style=\"text-align: right;\">\n",
       "      <th></th>\n",
       "      <th>State_Name</th>\n",
       "      <th>District_Name</th>\n",
       "    </tr>\n",
       "  </thead>\n",
       "  <tbody>\n",
       "    <tr>\n",
       "      <th>30</th>\n",
       "      <td>Uttar Pradesh</td>\n",
       "      <td>75</td>\n",
       "    </tr>\n",
       "    <tr>\n",
       "      <th>16</th>\n",
       "      <td>Madhya Pradesh</td>\n",
       "      <td>51</td>\n",
       "    </tr>\n",
       "    <tr>\n",
       "      <th>4</th>\n",
       "      <td>Bihar</td>\n",
       "      <td>38</td>\n",
       "    </tr>\n",
       "    <tr>\n",
       "      <th>17</th>\n",
       "      <td>Maharashtra</td>\n",
       "      <td>35</td>\n",
       "    </tr>\n",
       "    <tr>\n",
       "      <th>25</th>\n",
       "      <td>Rajasthan</td>\n",
       "      <td>33</td>\n",
       "    </tr>\n",
       "    <tr>\n",
       "      <th>27</th>\n",
       "      <td>Tamil Nadu</td>\n",
       "      <td>31</td>\n",
       "    </tr>\n",
       "    <tr>\n",
       "      <th>14</th>\n",
       "      <td>Karnataka</td>\n",
       "      <td>30</td>\n",
       "    </tr>\n",
       "    <tr>\n",
       "      <th>22</th>\n",
       "      <td>Odisha</td>\n",
       "      <td>30</td>\n",
       "    </tr>\n",
       "    <tr>\n",
       "      <th>6</th>\n",
       "      <td>Chhattisgarh</td>\n",
       "      <td>27</td>\n",
       "    </tr>\n",
       "    <tr>\n",
       "      <th>3</th>\n",
       "      <td>Assam</td>\n",
       "      <td>27</td>\n",
       "    </tr>\n",
       "    <tr>\n",
       "      <th>9</th>\n",
       "      <td>Gujarat</td>\n",
       "      <td>26</td>\n",
       "    </tr>\n",
       "    <tr>\n",
       "      <th>13</th>\n",
       "      <td>Jharkhand</td>\n",
       "      <td>24</td>\n",
       "    </tr>\n",
       "    <tr>\n",
       "      <th>24</th>\n",
       "      <td>Punjab</td>\n",
       "      <td>22</td>\n",
       "    </tr>\n",
       "    <tr>\n",
       "      <th>12</th>\n",
       "      <td>Jammu and Kashmir</td>\n",
       "      <td>22</td>\n",
       "    </tr>\n",
       "    <tr>\n",
       "      <th>10</th>\n",
       "      <td>Haryana</td>\n",
       "      <td>21</td>\n",
       "    </tr>\n",
       "    <tr>\n",
       "      <th>32</th>\n",
       "      <td>West Bengal</td>\n",
       "      <td>18</td>\n",
       "    </tr>\n",
       "    <tr>\n",
       "      <th>2</th>\n",
       "      <td>Arunachal Pradesh</td>\n",
       "      <td>18</td>\n",
       "    </tr>\n",
       "    <tr>\n",
       "      <th>15</th>\n",
       "      <td>Kerala</td>\n",
       "      <td>14</td>\n",
       "    </tr>\n",
       "    <tr>\n",
       "      <th>1</th>\n",
       "      <td>Andhra Pradesh</td>\n",
       "      <td>13</td>\n",
       "    </tr>\n",
       "    <tr>\n",
       "      <th>31</th>\n",
       "      <td>Uttarakhand</td>\n",
       "      <td>13</td>\n",
       "    </tr>\n",
       "    <tr>\n",
       "      <th>11</th>\n",
       "      <td>Himachal Pradesh</td>\n",
       "      <td>12</td>\n",
       "    </tr>\n",
       "    <tr>\n",
       "      <th>21</th>\n",
       "      <td>Nagaland</td>\n",
       "      <td>11</td>\n",
       "    </tr>\n",
       "    <tr>\n",
       "      <th>19</th>\n",
       "      <td>Meghalaya</td>\n",
       "      <td>11</td>\n",
       "    </tr>\n",
       "    <tr>\n",
       "      <th>28</th>\n",
       "      <td>Telangana</td>\n",
       "      <td>10</td>\n",
       "    </tr>\n",
       "    <tr>\n",
       "      <th>18</th>\n",
       "      <td>Manipur</td>\n",
       "      <td>9</td>\n",
       "    </tr>\n",
       "    <tr>\n",
       "      <th>20</th>\n",
       "      <td>Mizoram</td>\n",
       "      <td>8</td>\n",
       "    </tr>\n",
       "    <tr>\n",
       "      <th>29</th>\n",
       "      <td>Tripura</td>\n",
       "      <td>8</td>\n",
       "    </tr>\n",
       "    <tr>\n",
       "      <th>26</th>\n",
       "      <td>Sikkim</td>\n",
       "      <td>4</td>\n",
       "    </tr>\n",
       "    <tr>\n",
       "      <th>23</th>\n",
       "      <td>Puducherry</td>\n",
       "      <td>4</td>\n",
       "    </tr>\n",
       "    <tr>\n",
       "      <th>0</th>\n",
       "      <td>Andaman and Nicobar Islands</td>\n",
       "      <td>3</td>\n",
       "    </tr>\n",
       "    <tr>\n",
       "      <th>8</th>\n",
       "      <td>Goa</td>\n",
       "      <td>2</td>\n",
       "    </tr>\n",
       "    <tr>\n",
       "      <th>5</th>\n",
       "      <td>Chandigarh</td>\n",
       "      <td>1</td>\n",
       "    </tr>\n",
       "    <tr>\n",
       "      <th>7</th>\n",
       "      <td>Dadra and Nagar Haveli</td>\n",
       "      <td>1</td>\n",
       "    </tr>\n",
       "  </tbody>\n",
       "</table>\n",
       "</div>"
      ],
      "text/plain": [
       "                     State_Name  District_Name\n",
       "30                Uttar Pradesh             75\n",
       "16               Madhya Pradesh             51\n",
       "4                         Bihar             38\n",
       "17                  Maharashtra             35\n",
       "25                    Rajasthan             33\n",
       "27                   Tamil Nadu             31\n",
       "14                    Karnataka             30\n",
       "22                       Odisha             30\n",
       "6                  Chhattisgarh             27\n",
       "3                         Assam             27\n",
       "9                       Gujarat             26\n",
       "13                    Jharkhand             24\n",
       "24                       Punjab             22\n",
       "12           Jammu and Kashmir              22\n",
       "10                      Haryana             21\n",
       "32                  West Bengal             18\n",
       "2             Arunachal Pradesh             18\n",
       "15                       Kerala             14\n",
       "1                Andhra Pradesh             13\n",
       "31                  Uttarakhand             13\n",
       "11             Himachal Pradesh             12\n",
       "21                     Nagaland             11\n",
       "19                    Meghalaya             11\n",
       "28                   Telangana              10\n",
       "18                      Manipur              9\n",
       "20                      Mizoram              8\n",
       "29                      Tripura              8\n",
       "26                       Sikkim              4\n",
       "23                   Puducherry              4\n",
       "0   Andaman and Nicobar Islands              3\n",
       "8                           Goa              2\n",
       "5                    Chandigarh              1\n",
       "7        Dadra and Nagar Haveli              1"
      ]
     },
     "execution_count": 188,
     "metadata": {},
     "output_type": "execute_result"
    }
   ],
   "source": [
    "# Group by 'State_Name' and count unique 'District_Name'\n",
    "unique_districts = new_data.groupby('State_Name')['District_Name'].nunique().reset_index()\n",
    "unique_districts = unique_districts.sort_values(by='District_Name',ascending=False)\n",
    "\n",
    "print(\"total number of districts: \", unique_districts['District_Name'].sum())\n",
    "\n",
    "unique_districts"
   ]
  },
  {
   "cell_type": "code",
   "execution_count": 196,
   "id": "1d2f9400-9315-488a-9072-24c2c03f6161",
   "metadata": {},
   "outputs": [],
   "source": [
    "# Filter data by seasons\n",
    "kharif_data = new_data[new_data['Season'] == 'Kharif']\n",
    "rabi_data = new_data[new_data['Season'] == 'Rabi']\n",
    "whole_year_data = new_data[new_data['Season'] == 'Whole Year']\n",
    "\n",
    "# Aggregate production by year for each season\n",
    "kharif_production_by_year = kharif_data.groupby('Crop_Year')['Production'].sum()\n",
    "rabi_production_by_year = rabi_data.groupby('Crop_Year')['Production'].sum()\n",
    "whole_year_production_by_year = whole_year_data.groupby('Crop_Year')['Production'].sum()"
   ]
  },
  {
   "cell_type": "code",
   "execution_count": 199,
   "id": "bcfff0f7-d20d-4ceb-a21e-79736f0fd3de",
   "metadata": {},
   "outputs": [
    {
     "data": {
      "image/png": "[encoded data removed]",
      "text/plain": [
       "<Figure size 1200x1800 with 3 Axes>"
      ]
     },
     "metadata": {},
     "output_type": "display_data"
    }
   ],
   "source": [
    "# Create bar charts\n",
    "fig, axs = plt.subplots(3, 1, figsize=(12, 18))\n",
    "\n",
    "# Kharif Season\n",
    "axs[0].bar(kharif_production_by_year.index, kharif_production_by_year, color='darkblue')\n",
    "axs[0].set_title('Kharif Season Production by Year')\n",
    "axs[0].set_xlabel('Year')\n",
    "axs[0].set_ylabel('Production')\n",
    "axs[0].grid(axis='y', linestyle='--', alpha=0.7)\n",
    "axs[0].set_xticks(kharif_production_by_year.index)\n",
    "axs[0].set_xticklabels(kharif_production_by_year.index, rotation=45)\n",
    "\n",
    "# Rabi Season\n",
    "axs[1].bar(rabi_production_by_year.index, rabi_production_by_year, color='red')\n",
    "axs[1].set_title('Rabi Season Production by Year')\n",
    "axs[1].set_xlabel('Year')\n",
    "axs[1].set_ylabel('Production')\n",
    "axs[1].grid(axis='y', linestyle='--', alpha=0.7)\n",
    "axs[1].set_xticks(rabi_production_by_year.index)\n",
    "axs[1].set_xticklabels(rabi_production_by_year.index, rotation=45)\n",
    "\n",
    "# Whole Year Season\n",
    "axs[2].bar(whole_year_production_by_year.index, whole_year_production_by_year, color='green')\n",
    "axs[2].set_title('Whole Year Season Production by Year')\n",
    "axs[2].set_xlabel('Year')\n",
    "axs[2].set_ylabel('Production')\n",
    "axs[2].grid(axis='y', linestyle='--', alpha=0.7)\n",
    "axs[2].set_xticks(whole_year_production_by_year.index)\n",
    "axs[2].set_xticklabels(whole_year_production_by_year.index, rotation=45)\n",
    "\n",
    "plt.tight_layout()\n",
    "plt.show()"
   ]
  },
  {
   "cell_type": "code",
   "execution_count": 200,
   "id": "42f15cff-7f8b-4e33-81c4-2e64d32f6db1",
   "metadata": {},
   "outputs": [
    {
     "name": "stdout",
     "output_type": "stream",
     "text": [
      "                  Crop      State_Name    Production\n",
      "592          Sugarcane   Uttar Pradesh  2.202875e+09\n",
      "725              Wheat   Uttar Pradesh  4.699118e+08\n",
      "492               Rice     West Bengal  2.580928e+08\n",
      "427             Potato   Uttar Pradesh  1.920684e+08\n",
      "300               Jute     West Bengal  1.494178e+08\n",
      "101             Cotton         Gujarat  8.577750e+07\n",
      "551           Soyabean  Madhya Pradesh  8.527396e+07\n",
      "53              Banana      Tamil Nadu  5.871609e+07\n",
      "646            Tapioca      Tamil Nadu  5.564865e+07\n",
      "274              Jowar     Maharashtra  5.501858e+07\n",
      "332              Maize       Karnataka  4.830890e+07\n",
      "31               Bajra       Rajasthan  4.423569e+07\n",
      "215               Gram  Madhya Pradesh  3.903041e+07\n",
      "452  Rapeseed &Mustard       Rajasthan  3.881748e+07\n",
      "762     other oilseeds     West Bengal  3.871624e+07\n",
      "236          Groundnut         Gujarat  3.660930e+07\n",
      "674    Total foodgrain   Uttar Pradesh  3.058716e+07\n",
      "793             pulses   Uttar Pradesh  2.270848e+07\n",
      "355              Onion         Gujarat  1.880800e+07\n",
      "4             Arecanut       Karnataka  1.786108e+07\n",
      "169             Fruits  Andhra Pradesh  1.359394e+07\n",
      "84         Castor seed         Gujarat  1.242390e+07\n",
      "67              Barley   Uttar Pradesh  8.594791e+06\n",
      "123       Dry chillies  Andhra Pradesh  7.721555e+06\n",
      "260          Guar seed       Rajasthan  7.400477e+06\n",
      "155         Dry ginger       Karnataka  6.076420e+06\n",
      "603          Sunflower       Karnataka  5.545739e+06\n",
      "381   Other Vegetables  Andhra Pradesh  4.925277e+06\n",
      "648            Tobacco  Andhra Pradesh  3.695447e+06\n",
      "695           Turmeric      Telangana   3.656290e+06\n",
      "736               gram       Rajasthan  3.453484e+06\n",
      "194             Garlic  Madhya Pradesh  2.986350e+06\n",
      "634       Sweet potato   Uttar Pradesh  2.556292e+06\n",
      "543            Sesamum     West Bengal  2.506228e+06\n",
      "498          Safflower     Maharashtra  1.810405e+06\n",
      "375       Other Spices          Kerala  1.107872e+06\n",
      "74           Cashewnut          Kerala  1.014482e+06\n",
      "308            Linseed  Madhya Pradesh  9.545480e+05\n",
      "515           Sannhamp     West Bengal  1.079610e+05\n"
     ]
    }
   ],
   "source": [
    "# Group by crop and state, and sum the production values\n",
    "grouped_data = new_data.groupby(['Crop', 'State_Name'])['Production'].sum().reset_index()\n",
    "\n",
    "# Find the top producer state for each crop\n",
    "top_producers = grouped_data.loc[grouped_data.groupby('Crop')['Production'].idxmax()]\n",
    "\n",
    "# Display the results\n",
    "top_producers = top_producers.sort_values(by='Production', ascending=False)\n",
    "print(top_producers)"
   ]
  },
  {
   "cell_type": "code",
   "execution_count": 204,
   "id": "ae505a9a-822c-4ded-ae51-1ede69fa485c",
   "metadata": {},
   "outputs": [
    {
     "name": "stdout",
     "output_type": "stream",
     "text": [
      "                  Crop         zone    Production\n",
      "130          Sugarcane  North India  2.547716e+09\n",
      "162              Wheat  North India  1.170469e+09\n",
      "105               Rice    EastIndia  5.958420e+08\n",
      "96              Potato  North India  2.119277e+08\n",
      "67                Jute    EastIndia  1.872775e+08\n",
      "29              Cotton   West India  1.575638e+08\n",
      "145            Tapioca  South India  1.040076e+08\n",
      "125           Soyabean  North India  9.727924e+07\n",
      "5                Bajra  North India  9.269306e+07\n",
      "11              Banana  South India  9.253878e+07\n",
      "77               Maize  North India  8.819540e+07\n",
      "101  Rapeseed &Mustard  North India  7.338553e+07\n",
      "50                Gram  North India  6.762164e+07\n",
      "66               Jowar   West India  5.765225e+07\n",
      "175             pulses  North India  4.842220e+07\n",
      "56           Groundnut  South India  4.832937e+07\n",
      "169     other oilseeds    EastIndia  3.992196e+07\n",
      "153    Total foodgrain  North India  3.381309e+07\n",
      "83               Onion  South India  2.373229e+07\n",
      "15              Barley  North India  2.162589e+07\n",
      "1             Arecanut  South India  1.984585e+07\n",
      "41              Fruits  South India  1.920831e+07\n",
      "24         Castor seed   West India  1.247602e+07\n",
      "32        Dry chillies  South India  1.038766e+07\n",
      "136          Sunflower  South India  9.169973e+06\n",
      "59           Guar seed  North India  7.955467e+06\n",
      "92    Other Vegetables  South India  6.960643e+06\n",
      "37          Dry ginger  South India  6.867682e+06\n",
      "45              Garlic  North India  5.875315e+06\n",
      "149            Tobacco  South India  4.865767e+06\n",
      "159           Turmeric  South India  4.766802e+06\n",
      "139       Sweet potato    EastIndia  3.723006e+06\n",
      "120            Sesamum  North India  3.553173e+06\n",
      "167               gram  North India  3.466857e+06\n",
      "17           Cashewnut  South India  2.415515e+06\n",
      "87        Other Spices  South India  1.901288e+06\n",
      "114          Safflower   West India  1.810405e+06\n",
      "72             Linseed  North India  1.571898e+06\n",
      "115           Sannhamp    EastIndia  2.394236e+05\n"
     ]
    }
   ],
   "source": [
    "# Group by crop and zone, and sum the production values\n",
    "grouped_data = new_data.groupby(['Crop', 'zone'])['Production'].sum().reset_index()\n",
    "\n",
    "# Find the top producer zone for each crop\n",
    "top_producers_zone = grouped_data.loc[grouped_data.groupby('Crop')['Production'].idxmax()]\n",
    "\n",
    "# Display the results\n",
    "top_producers_zone = top_producers_zone.sort_values(by='Production', ascending=False)\n",
    "print(top_producers_zone)"
   ]
  },
  {
   "cell_type": "code",
   "execution_count": null,
   "id": "d11bc7dd-6eb2-45e8-8570-78bb3b464480",
   "metadata": {},
   "outputs": [],
   "source": []
  },
  {
   "cell_type": "code",
   "execution_count": null,
   "id": "a8a208d7-c4b5-4dc9-8ae3-2f62b886334b",
   "metadata": {},
   "outputs": [],
   "source": []
  },
  {
   "cell_type": "markdown",
   "id": "592c30a4-6940-4b24-a5dd-78e49d085bfb",
   "metadata": {},
   "source": [
    "# Conclusion\n",
    "\n",
    "- we have observed that Production of coconut is more than 92% of total Production so we not able to visualize our dataset\n",
    "- so we have decided to consider coconut as an outlier and we have removed it from dataset"
   ]
  }
 ],
 "metadata": {
  "kernelspec": {
   "display_name": "Python 3 (ipykernel)",
   "language": "python",
   "name": "python3"
  },
  "language_info": {
   "codemirror_mode": {
    "name": "ipython",
    "version": 3
   },
   "file_extension": ".py",
   "mimetype": "text/x-python",
   "name": "python",
   "nbconvert_exporter": "python",
   "pygments_lexer": "ipython3",
   "version": "3.11.9"
  }
 },
 "nbformat": 4,
 "nbformat_minor": 5
}
